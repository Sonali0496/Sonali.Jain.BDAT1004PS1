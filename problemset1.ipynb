{
 "cells": [
  {
   "cell_type": "markdown",
   "metadata": {},
   "source": [
    "#QUESTION__1\n"
   ]
  },
  {
   "cell_type": "code",
   "execution_count": 22,
   "metadata": {},
   "outputs": [
    {
     "data": {
      "text/plain": [
       "int"
      ]
     },
     "execution_count": 22,
     "metadata": {},
     "output_type": "execute_result"
    }
   ],
   "source": [
    "type(5)"
   ]
  },
  {
   "cell_type": "code",
   "execution_count": 23,
   "metadata": {},
   "outputs": [
    {
     "data": {
      "text/plain": [
       "float"
      ]
     },
     "execution_count": 23,
     "metadata": {},
     "output_type": "execute_result"
    }
   ],
   "source": [
    "type(5.0)"
   ]
  },
  {
   "cell_type": "code",
   "execution_count": 24,
   "metadata": {},
   "outputs": [
    {
     "data": {
      "text/plain": [
       "bool"
      ]
     },
     "execution_count": 24,
     "metadata": {},
     "output_type": "execute_result"
    }
   ],
   "source": [
    "type(5>1)"
   ]
  },
  {
   "cell_type": "code",
   "execution_count": 25,
   "metadata": {},
   "outputs": [
    {
     "data": {
      "text/plain": [
       "str"
      ]
     },
     "execution_count": 25,
     "metadata": {},
     "output_type": "execute_result"
    }
   ],
   "source": [
    "type('5')"
   ]
  },
  {
   "cell_type": "code",
   "execution_count": 26,
   "metadata": {},
   "outputs": [
    {
     "data": {
      "text/plain": [
       "int"
      ]
     },
     "execution_count": 26,
     "metadata": {},
     "output_type": "execute_result"
    }
   ],
   "source": [
    "type(5 * 2)"
   ]
  },
  {
   "cell_type": "code",
   "execution_count": 27,
   "metadata": {},
   "outputs": [
    {
     "data": {
      "text/plain": [
       "str"
      ]
     },
     "execution_count": 27,
     "metadata": {},
     "output_type": "execute_result"
    }
   ],
   "source": [
    "type('5'* 2)"
   ]
  },
  {
   "cell_type": "code",
   "execution_count": 28,
   "metadata": {},
   "outputs": [
    {
     "data": {
      "text/plain": [
       "str"
      ]
     },
     "execution_count": 28,
     "metadata": {},
     "output_type": "execute_result"
    }
   ],
   "source": [
    "type('5' + '2')"
   ]
  },
  {
   "cell_type": "code",
   "execution_count": 29,
   "metadata": {},
   "outputs": [
    {
     "data": {
      "text/plain": [
       "float"
      ]
     },
     "execution_count": 29,
     "metadata": {},
     "output_type": "execute_result"
    }
   ],
   "source": [
    "type(5/2)"
   ]
  },
  {
   "cell_type": "code",
   "execution_count": 30,
   "metadata": {},
   "outputs": [
    {
     "data": {
      "text/plain": [
       "int"
      ]
     },
     "execution_count": 30,
     "metadata": {},
     "output_type": "execute_result"
    }
   ],
   "source": [
    "type(5//2)"
   ]
  },
  {
   "cell_type": "code",
   "execution_count": 31,
   "metadata": {},
   "outputs": [
    {
     "data": {
      "text/plain": [
       "list"
      ]
     },
     "execution_count": 31,
     "metadata": {},
     "output_type": "execute_result"
    }
   ],
   "source": [
    "type([5,2,1])"
   ]
  },
  {
   "cell_type": "code",
   "execution_count": 32,
   "metadata": {},
   "outputs": [
    {
     "data": {
      "text/plain": [
       "bool"
      ]
     },
     "execution_count": 32,
     "metadata": {},
     "output_type": "execute_result"
    }
   ],
   "source": [
    "type(5 in [1,4,6])"
   ]
  },
  {
   "cell_type": "code",
   "execution_count": 33,
   "metadata": {},
   "outputs": [
    {
     "data": {
      "text/plain": [
       "float"
      ]
     },
     "execution_count": 33,
     "metadata": {},
     "output_type": "execute_result"
    }
   ],
   "source": [
    "import math\n",
    "type(math.pi)"
   ]
  },
  {
   "cell_type": "markdown",
   "metadata": {},
   "source": [
    "#QUESTION___2"
   ]
  },
  {
   "cell_type": "markdown",
   "metadata": {},
   "source": [
    "##a"
   ]
  },
  {
   "cell_type": "code",
   "execution_count": 34,
   "metadata": {},
   "outputs": [
    {
     "data": {
      "text/plain": [
       "34"
      ]
     },
     "execution_count": 34,
     "metadata": {},
     "output_type": "execute_result"
    }
   ],
   "source": [
    "s='Supercalifragilisticexpialidocious'\n",
    "len(s)\n"
   ]
  },
  {
   "cell_type": "markdown",
   "metadata": {},
   "source": [
    "##b"
   ]
  },
  {
   "cell_type": "code",
   "execution_count": 35,
   "metadata": {},
   "outputs": [
    {
     "name": "stdout",
     "output_type": "stream",
     "text": [
      "ICE is a substring of s\n"
     ]
    }
   ],
   "source": [
    "if 'ice' in s:\n",
    "    print(\"ICE is a substring of s\")\n",
    "    "
   ]
  },
  {
   "cell_type": "markdown",
   "metadata": {},
   "source": [
    "##c"
   ]
  },
  {
   "cell_type": "code",
   "execution_count": 36,
   "metadata": {},
   "outputs": [
    {
     "name": "stdout",
     "output_type": "stream",
     "text": [
      "C is longest\n"
     ]
    }
   ],
   "source": [
    "a=\"Supercalifragilisticexpialidocious\"\n",
    "b=\"Honorificabilitudinitatibus\"\n",
    "c=\"Bababadalgharaghtakamminarronnkonn\"\n",
    "if len(a) > len(b) and len(a) > len(c):\n",
    "    print(\"A is longest\")\n",
    "elif len(b) > len(a) and len(b) > len(c):\n",
    "    print(\"B is longest\")\n",
    "else:\n",
    "    print(\"C is longest\")\n",
    "    "
   ]
  },
  {
   "cell_type": "markdown",
   "metadata": {},
   "source": [
    "##d"
   ]
  },
  {
   "cell_type": "code",
   "execution_count": 37,
   "metadata": {},
   "outputs": [
    {
     "name": "stdout",
     "output_type": "stream",
     "text": [
      "['Bartok', 'Bellini', 'Berlioz', 'Bernstein', 'Borodin', 'Brian', 'Buxtehude']\n",
      "First Element :Bartok\n",
      "Last Element :Buxtehude\n"
     ]
    }
   ],
   "source": [
    "lst=[ 'Berlioz', 'Borodin', 'Brian','Bartok', 'Bellini', 'Buxtehude', 'Bernstein']\n",
    "sorted_lst=sorted(lst)\n",
    "print(sorted_lst)\n",
    "print(\"First Element :\" + sorted_lst[0] + \"\\n\" + \"Last Element :\" + sorted_lst[-1])"
   ]
  },
  {
   "cell_type": "markdown",
   "metadata": {},
   "source": [
    "#QUESTION__3\n",
    "##A"
   ]
  },
  {
   "cell_type": "code",
   "execution_count": 38,
   "metadata": {},
   "outputs": [
    {
     "name": "stdout",
     "output_type": "stream",
     "text": [
      "True\n",
      "False\n"
     ]
    }
   ],
   "source": [
    "def inside(x, y, x1, y1, x2, y2):\n",
    "    if x1 < x < x2 and y1 < y < y2:\n",
    "        return True\n",
    "    else:\n",
    "        return False\n",
    "\n",
    "\n",
    "a = inside(1, 1, 0, 0, 2, 3)\n",
    "print(a)\n",
    "\"'Question 3 (b)'\"\n",
    "b = inside(1, 1, 0.3, 0.5, 1.1, 0.7)\n",
    "c = inside(1, 1, 0.5, 0.2, 1.1, 2)\n",
    "def isLies(p, q):\n",
    "    if p and q:\n",
    "        return True\n",
    "    else:\n",
    "        return False\n",
    "\n",
    "\n",
    "f = isLies(b, c)\n",
    "print(f)\n"
   ]
  },
  {
   "cell_type": "markdown",
   "metadata": {},
   "source": [
    "#QUESTION__4\n",
    "##A"
   ]
  },
  {
   "cell_type": "code",
   "execution_count": 39,
   "metadata": {},
   "outputs": [
    {
     "name": "stdin",
     "output_type": "stream",
     "text": [
      "Enter a word: THriller\n"
     ]
    },
    {
     "name": "stdout",
     "output_type": "stream",
     "text": [
      "hrillertay\n"
     ]
    },
    {
     "name": "stdin",
     "output_type": "stream",
     "text": [
      "Enter a word: happy\n"
     ]
    },
    {
     "name": "stdout",
     "output_type": "stream",
     "text": [
      "appyhay\n"
     ]
    }
   ],
   "source": [
    "def pig(word):\n",
    "    if word[0] in \"aeiou\":\n",
    "        return word + 'way'\n",
    "    else:\n",
    "        return word[1:]+ word[0] + 'ay'\n",
    "\n",
    "w = input(\"Enter a word:\")\n",
    "l=w.lower()\n",
    "print(' '.join(pig(word) for word in l.split()))\n",
    "\n",
    "###A.1\n",
    "def pig(word):\n",
    "    if word[0] in \"aeiou\":\n",
    "        return word + 'way'\n",
    "    else:\n",
    "        return word[1:] + word[0] + 'ay'\n",
    "\n",
    "w = input(\"Enter a word:\")\n",
    "l=w.lower()\n",
    "print(' '.join(pig(word) for word in l.split()))"
   ]
  },
  {
   "cell_type": "markdown",
   "metadata": {},
   "source": [
    "#QUESTION_5"
   ]
  },
  {
   "cell_type": "code",
   "execution_count": 40,
   "metadata": {},
   "outputs": [
    {
     "name": "stdout",
     "output_type": "stream",
     "text": [
      "There are 15 patients of blood type A.\n",
      "There is one patient of blood type B.\n",
      "There are 13 patients of blood type AB.\n",
      "There are 15 patients of blood type O.\n",
      "There are no patients of blood type OO.\n"
     ]
    }
   ],
   "source": [
    "\n",
    "def bldcount(name):\n",
    "    infile=open(name, 'r')\n",
    "    info= infile.read()\n",
    "    infile.close()\n",
    "    info=info.split()\n",
    "    bloodtype = ['A','B','AB','O','OO']\n",
    "    for i in bloodtype:\n",
    "        if info.count(i)==0:\n",
    "            print('There are no patients of blood type',i+'.')\n",
    "        elif info.count(i)==1:\n",
    "            print('There is one patient of blood type',i+'.')\n",
    "        else:\n",
    "            print('There are',info.count(i),'patients of blood type', i+'.')\n",
    "bldcount('bloodtype.txt')\n",
    "    "
   ]
  },
  {
   "cell_type": "markdown",
   "metadata": {},
   "source": [
    "#QUESTION__6"
   ]
  },
  {
   "cell_type": "code",
   "execution_count": 41,
   "metadata": {},
   "outputs": [],
   "source": [
    "\n",
    "currency=open('currencies.txt')\n",
    "curr_list=currency.read()\n",
    "curr_list2=curr_list.replace('\\n','\\t')\n",
    "currency_codes=curr_list2.split('\\t')\n",
    "currency.close()\n",
    "currency_codes\n",
    "\n",
    "def currconv(CUR,AMO):\n",
    "    if CUR.isalpha():\n",
    "        cur_str=str(CUR)\n",
    "        code=cur_str.upper()\n",
    "        amount=int(AMO)\n",
    "        \n",
    "        if code in currency_codes:\n",
    "            index_of_code=currency_codes.index(code)\n",
    "            rate=float(currency_codes[index_of_code+1])\n",
    "            usd=str(amount*rate)\n",
    "            print(usd)\n",
    "        else:\n",
    "            print(\"There is no Currency\")\n",
    "    else:\n",
    "        print(\"Enter a proper currency\")\n",
    "        \n",
    "        "
   ]
  },
  {
   "cell_type": "code",
   "execution_count": 19,
   "metadata": {},
   "outputs": [
    {
     "name": "stdout",
     "output_type": "stream",
     "text": [
      "122.96544\n"
     ]
    }
   ],
   "source": [
    "currconv('EUR',100)"
   ]
  },
  {
   "cell_type": "markdown",
   "metadata": {},
   "source": [
    "#QUESTION__7"
   ]
  },
  {
   "cell_type": "code",
   "execution_count": 42,
   "metadata": {},
   "outputs": [
    {
     "name": "stdout",
     "output_type": "stream",
     "text": [
      "(<class 'TypeError'>, TypeError(\"unsupported operand type(s) for +: 'int' and 'str'\"), <traceback object at 0x00000209F3A50DC8>)\n"
     ]
    }
   ],
   "source": [
    "\n",
    "import sys\n",
    "\n",
    "a = 6\n",
    "b = \"TestString\"\n",
    "x = [1, 2, 3, 4, 5, 6, 7, 8, 9, 11 ]\n",
    "try:\n",
    "    c = a + b\n",
    "    print(x[11])\n",
    "    print(c)\n",
    "\n",
    "except:\n",
    "    print(sys.exc_info())\n",
    "   "
   ]
  },
  {
   "cell_type": "markdown",
   "metadata": {},
   "source": [
    "#QUESTION__8"
   ]
  },
  {
   "cell_type": "code",
   "execution_count": 43,
   "metadata": {},
   "outputs": [
    {
     "name": "stdin",
     "output_type": "stream",
     "text": [
      "Enter a String to get the count:  Hello I am good\n"
     ]
    },
    {
     "name": "stdout",
     "output_type": "stream",
     "text": [
      "{'H': 1, 'e': 1, 'l': 2, 'o': 3, ' ': 3, 'I': 1, 'a': 1, 'm': 1, 'g': 1, 'd': 1}\n"
     ]
    }
   ],
   "source": [
    "\n",
    "\"'Cryptography Problem'\"\n",
    "\n",
    "\n",
    "def countFrequency(s):\n",
    "    Result = {}\n",
    "    for i in s:\n",
    "        Result[i] = Result.get(i, 0) + 1\n",
    "    print(str(Result))\n",
    "\n",
    "\n",
    "s = input(\"Enter a String to get the count: \")\n",
    "countFrequency(s)\n"
   ]
  },
  {
   "cell_type": "markdown",
   "metadata": {},
   "source": [
    "#QUESTION__9\n"
   ]
  },
  {
   "cell_type": "code",
   "execution_count": 44,
   "metadata": {},
   "outputs": [
    {
     "name": "stdout",
     "output_type": "stream",
     "text": [
      "Enter the a number\n"
     ]
    },
    {
     "name": "stdin",
     "output_type": "stream",
     "text": [
      " 70\n"
     ]
    },
    {
     "name": "stdout",
     "output_type": "stream",
     "text": [
      "[2, 3, 5, 7, 11, 13, 17, 19, 23, 29, 31, 37, 41, 43, 47, 53, 59, 61, 67]\n"
     ]
    }
   ],
   "source": [
    "import math\n",
    "\n",
    "print(\"Enter the a number\")\n",
    "number = int(input())\n",
    "\n",
    "primes = []\n",
    "for i in range(2, number + 1):\n",
    "    primes.append(i)\n",
    "\n",
    "i = 2\n",
    "\n",
    "while i <= int(math.sqrt(number)):\n",
    "\n",
    "    if i in primes:\n",
    "\n",
    "        for j in range(i * 2, number + 1, i):\n",
    "            if j in primes:\n",
    "\n",
    "                primes.remove(j)\n",
    "    i = i + 1\n",
    "\n",
    "print(primes)"
   ]
  },
  {
   "cell_type": "markdown",
   "metadata": {},
   "source": [
    "#Question_10\n"
   ]
  },
  {
   "cell_type": "code",
   "execution_count": 45,
   "metadata": {},
   "outputs": [
    {
     "name": "stdout",
     "output_type": "stream",
     "text": [
      "Enter the value of sides: \n"
     ]
    },
    {
     "name": "stdin",
     "output_type": "stream",
     "text": [
      "Enter the value of side1:  2\n",
      "Enter the value of side2:  3\n",
      "Enter the value of side3:  4\n"
     ]
    },
    {
     "name": "stdout",
     "output_type": "stream",
     "text": [
      "2.9047375096555625\n"
     ]
    }
   ],
   "source": [
    "import math\n",
    "\n",
    "\n",
    "def trianglearea(x, y, z):\n",
    "    s = (x + b + c) / 2\n",
    "    area = math.sqrt((s * (s - x) * (s - b) * (s - c)))\n",
    "    print(area)\n",
    "\n",
    "\n",
    "print(\"Enter the value of sides: \")\n",
    "a = int(input(\"Enter the value of side1: \"))\n",
    "b = int(input(\"Enter the value of side2: \"))\n",
    "c = int(input(\"Enter the value of side3: \"))\n",
    "trianglearea(a, b, c)\n"
   ]
  },
  {
   "cell_type": "code",
   "execution_count": null,
   "metadata": {},
   "outputs": [],
   "source": []
  }
 ],
 "metadata": {
  "kernelspec": {
   "display_name": "Python 3",
   "language": "python",
   "name": "python3"
  },
  "language_info": {
   "codemirror_mode": {
    "name": "ipython",
    "version": 3
   },
   "file_extension": ".py",
   "mimetype": "text/x-python",
   "name": "python",
   "nbconvert_exporter": "python",
   "pygments_lexer": "ipython3",
   "version": "3.7.6"
  }
 },
 "nbformat": 4,
 "nbformat_minor": 4
}
